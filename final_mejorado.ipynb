{
 "cells": [
  {
   "cell_type": "code",
   "execution_count": 19,
   "metadata": {},
   "outputs": [
    {
     "name": "stderr",
     "output_type": "stream",
     "text": [
      "[nltk_data] Downloading package omw-1.4 to C:\\Users\\Lola Monroy\n",
      "[nltk_data]     Mir\\AppData\\Roaming\\nltk_data...\n",
      "[nltk_data]   Package omw-1.4 is already up-to-date!\n",
      "[nltk_data] Downloading package stopwords to C:\\Users\\Lola Monroy\n",
      "[nltk_data]     Mir\\AppData\\Roaming\\nltk_data...\n",
      "[nltk_data]   Package stopwords is already up-to-date!\n",
      "[nltk_data] Downloading package wordnet to C:\\Users\\Lola Monroy\n",
      "[nltk_data]     Mir\\AppData\\Roaming\\nltk_data...\n",
      "[nltk_data]   Package wordnet is already up-to-date!\n",
      "[nltk_data] Downloading package punkt to C:\\Users\\Lola Monroy\n",
      "[nltk_data]     Mir\\AppData\\Roaming\\nltk_data...\n",
      "[nltk_data]   Package punkt is already up-to-date!\n",
      "\n",
      "[notice] A new release of pip is available: 24.0 -> 24.2\n",
      "[notice] To update, run: python.exe -m pip install --upgrade pip\n"
     ]
    },
    {
     "name": "stdout",
     "output_type": "stream",
     "text": [
      "Requirement already satisfied: word2number in c:\\python312\\lib\\site-packages (1.1)\n"
     ]
    }
   ],
   "source": [
    "from nltk.tokenize.treebank import TreebankWordTokenizer\n",
    "import nltk\n",
    "nltk.download('omw-1.4')\n",
    "nltk.download('stopwords')\n",
    "nltk.download('wordnet')\n",
    "nltk.download('punkt')\n",
    "\n",
    "from nltk.corpus import stopwords\n",
    "from nltk.stem.porter import PorterStemmer\n",
    "from nltk.stem import WordNetLemmatizer\n",
    "from nltk.tokenize import TweetTokenizer\n",
    "\n",
    "!pip install word2number\n",
    "from word2number import w2n\n",
    "\n",
    "import json\n",
    "import sys"
   ]
  },
  {
   "cell_type": "code",
   "execution_count": 27,
   "metadata": {},
   "outputs": [],
   "source": [
    "with open('house_data_ex6.json') as f:\n",
    "  data = json.load(f)"
   ]
  },
  {
   "cell_type": "code",
   "execution_count": 3,
   "metadata": {},
   "outputs": [],
   "source": [
    "data['houses'].append({'id': 26, 'type': 'sale', 'bedrooms': '5', 'bathrooms': '3', 'price': '200k', 'square_meters': '90', 'floor': '6', 'elevator': 'Yes', 'commercial_use': 'Yes', 'terrace': 'Yes', 'location': 'Tarragona'})\n",
    "\n",
    "id = 26\n",
    "house = data['houses'][id-1]"
   ]
  },
  {
   "cell_type": "code",
   "execution_count": 31,
   "metadata": {},
   "outputs": [],
   "source": [
    "def print_question(prompt, possible_options = []):\n",
    "    print(prompt)  # El chatbot imprimeix la pregunta \n",
    "    if not len(possible_options) == 0:  # En cas que la llista d'opcions NO estigui buida -> ha d'oferir opcions\n",
    "      print(\"Options:\", \", \".join(possible_options)) # Ofereix a l'usuari les possibles respostes \n",
    "\n",
    "def initialize_available_options(house_data, available_options): # available_options és un dict \n",
    "    for house in house_data['houses']: \n",
    "        for key, value in house.items():  # Per cada característica de cada casa\n",
    "            available_options.setdefault(key, set()).add(value)  # Guarda un set per cada característica amb totes les opcions que hi ha per cada una (un set per no tenir repetits)\n",
    "\n",
    "def preprocess_answer(answer): # Tokenitza la resposta del usuari\n",
    "    answer = nltk.word_tokenize(answer)\n",
    "    return answer \n",
    "\n",
    "def get_numerical_value(tok_answer): # Extreu valors numèrics de la resposta tokenitzada amb la funció anterior\n",
    "    for token in tok_answer:\n",
    "        if token.isnumeric() or token[:-1].isnumeric(): # Mira si el token és numèric o si sense l'ultim char ho és (per treure 'k' de 35k)\n",
    "            return token \n",
    "    return '' # Només retorna un valor numèric si el troba, sinó retorna '' osigui res"
   ]
  },
  {
   "cell_type": "code",
   "execution_count": 32,
   "metadata": {},
   "outputs": [],
   "source": [
    "# TO DO: MODIFIQUEM LES FUNCIONS PERQUÈ ACCEPTI ANY \n",
    "def process_numerical_question(question):\n",
    "    print_question(question['question']) \n",
    "    while True:\n",
    "        answer = input(question['prompt'])  \n",
    "        if answer.lower() == 'any':  \n",
    "            return 'any'\n",
    "        tok_answer = preprocess_answer(answer)\n",
    "        value = get_numerical_value(tok_answer)\n",
    "        if value != '': \n",
    "            return value\n",
    "\n",
    "def process_multichoice_question(question, options):\n",
    "    print_question(question['question'], options)  \n",
    "    while True:\n",
    "        answer = input(question['prompt']) \n",
    "        if answer.lower() == 'any':  \n",
    "            return 'any'\n",
    "        if answer in options: \n",
    "            return answer\n",
    "        \n",
    "def find_suitable_houses(data, user_preferences):\n",
    "    suitable_houses = []\n",
    "\n",
    "    filters = {\n",
    "        'bedrooms': lambda answer, house: int(house) >= int(answer) if answer != 'any' else True,\n",
    "        'bathrooms': lambda answer, house: int(house) >= int(answer) if answer != 'any' else True,\n",
    "        'price': lambda answer, house: int(house[:-1]) <= int(answer[:-1]) if house[:-1].isdigit() and answer[:-1].isdigit() and answer != 'any' else True,\n",
    "        'square_meters': lambda answer, house: int(house) >= int(answer) if answer != 'any' else True,\n",
    "        'location': lambda answer, house: house == answer if answer != 'any' else True,\n",
    "        'type': lambda answer, house: house == answer,\n",
    "        'floor': lambda answer, house: int(house) >= int(answer),\n",
    "        'terrace': lambda answer, house: house == 'Yes' if answer == 'Yes' else True,  \n",
    "        'elevator': lambda answer, house: house == 'Yes' if answer == 'Yes' else True,  \n",
    "        'commercial_use': lambda answer, house: house == 'Yes' if answer == 'Yes' else True  \n",
    "        }\n",
    "    \n",
    "\n",
    "    for house in data['houses']:\n",
    "        is_suitable = True\n",
    "        for key, filter_func in filters.items():\n",
    "            if key in user_preferences:\n",
    "                if not filter_func(user_preferences[key], house[key]):\n",
    "                    is_suitable = False\n",
    "                    break\n",
    "        if is_suitable:\n",
    "            suitable_houses.append(house)\n",
    "    \n",
    "    return suitable_houses"
   ]
  },
  {
   "cell_type": "code",
   "execution_count": 33,
   "metadata": {},
   "outputs": [
    {
     "name": "stdout",
     "output_type": "stream",
     "text": [
      "Welcome to the House Buying Assistant!\n",
      "How many bedrooms do you need?\n",
      "How many bathrooms do you need?\n",
      "What is your budget for the house?\n",
      "How many square meters do you need?\n",
      "Which city or neighborhood would you prefer?\n",
      "Options: Esplugues de Llobregat, Santa Coloma de Gramenet, Barcelona, L'Hospitalet de Llobregat\n",
      "Do you prefer a house for sale or for rent?\n",
      "Options: rent, sale\n",
      "What is your current income?\n",
      "What floor do you wish to live in?\n",
      "Do you wish to have a terrace?\n",
      "Options: Yes, No\n",
      "Do you wish to have an elevator?\n",
      "Options: Yes, No\n"
     ]
    },
    {
     "ename": "TypeError",
     "evalue": "'NoneType' object is not iterable",
     "output_type": "error",
     "traceback": [
      "\u001b[1;31m---------------------------------------------------------------------------\u001b[0m",
      "\u001b[1;31mTypeError\u001b[0m                                 Traceback (most recent call last)",
      "Cell \u001b[1;32mIn[33], line 8\u001b[0m\n\u001b[0;32m      6\u001b[0m \u001b[38;5;28;01mfor\u001b[39;00m question \u001b[38;5;129;01min\u001b[39;00m data[\u001b[38;5;124m'\u001b[39m\u001b[38;5;124mquestions\u001b[39m\u001b[38;5;124m'\u001b[39m]:\n\u001b[0;32m      7\u001b[0m   answer_key \u001b[38;5;241m=\u001b[39m question[\u001b[38;5;124m'\u001b[39m\u001b[38;5;124manswer_key\u001b[39m\u001b[38;5;124m'\u001b[39m] \n\u001b[1;32m----> 8\u001b[0m   possible_options \u001b[38;5;241m=\u001b[39m \u001b[38;5;28;43mlist\u001b[39;49m\u001b[43m(\u001b[49m\u001b[43mavailable_options\u001b[49m\u001b[38;5;241;43m.\u001b[39;49m\u001b[43mget\u001b[49m\u001b[43m(\u001b[49m\u001b[43manswer_key\u001b[49m\u001b[43m)\u001b[49m\u001b[43m)\u001b[49m\n\u001b[0;32m     10\u001b[0m   \u001b[38;5;28;01mif\u001b[39;00m question[\u001b[38;5;124m'\u001b[39m\u001b[38;5;124mtype\u001b[39m\u001b[38;5;124m'\u001b[39m] \u001b[38;5;241m==\u001b[39m \u001b[38;5;124m'\u001b[39m\u001b[38;5;124mnumerical\u001b[39m\u001b[38;5;124m'\u001b[39m:\n\u001b[0;32m     11\u001b[0m     answer \u001b[38;5;241m=\u001b[39m process_numerical_question(question)\n",
      "\u001b[1;31mTypeError\u001b[0m: 'NoneType' object is not iterable"
     ]
    }
   ],
   "source": [
    "print(data['start_message'])\n",
    "user_preferences, available_options = {}, {} \n",
    "\n",
    "initialize_available_options(data, available_options) \n",
    "\n",
    "for question in data['questions']:\n",
    "  answer_key = question['answer_key'] \n",
    "  possible_options = list(available_options.get(answer_key))\n",
    "\n",
    "  if question['type'] == 'numerical':\n",
    "    answer = process_numerical_question(question)\n",
    "  else:\n",
    "    answer = process_multichoice_question(question, possible_options)\n",
    "\n",
    "  user_preferences[answer_key] = answer \n",
    "\n",
    "def print_suitable_houses(suitable_houses):\n",
    "  if suitable_houses:\n",
    "    print(\"\\nBased on your preferences, the most suitable houses are:\")\n",
    "    for house in suitable_houses:\n",
    "      print(f\"House ID: {house['id']}\")\n",
    "      print(f\"Type: {house['type']}\")\n",
    "      print(\"Bedrooms:\", house['bedrooms'])\n",
    "      print(\"Bathrooms:\", house['bathrooms'])\n",
    "      print(\"Price:\", house['price'], \"euros\")\n",
    "      print(\"Square Meters:\", house['square_meters'], \"m^2\")\n",
    "      print(\"Location:\", house['location'])\n",
    "      print()\n",
    "  else:\n",
    "    print(\"\\nSorry, no suitable houses match your preferences. \\n\")\n",
    "\n",
    "suitable_houses = find_suitable_houses(data, user_preferences)\n",
    "print_suitable_houses(suitable_houses)"
   ]
  },
  {
   "cell_type": "code",
   "execution_count": 16,
   "metadata": {},
   "outputs": [
    {
     "name": "stdout",
     "output_type": "stream",
     "text": [
      "\n",
      "Based on your preferences, the most suitable houses are:\n",
      "House ID: 20\n",
      "Type: sale\n",
      "Bedrooms: 3\n",
      "Bathrooms: 2\n",
      "Price: 360k euros\n",
      "Square Meters: 90 m^2\n",
      "Location: Barcelona\n",
      "\n",
      "House ID: 21\n",
      "Type: sale\n",
      "Bedrooms: 4\n",
      "Bathrooms: 2\n",
      "Price: 480k euros\n",
      "Square Meters: 120 m^2\n",
      "Location: Barcelona\n",
      "\n",
      "House ID: 22\n",
      "Type: rent\n",
      "Bedrooms: 4\n",
      "Bathrooms: 2\n",
      "Price: 3000 euros\n",
      "Square Meters: 100 m^2\n",
      "Location: Barcelona\n",
      "\n",
      "House ID: 23\n",
      "Type: sale\n",
      "Bedrooms: 3\n",
      "Bathrooms: 2\n",
      "Price: 285k euros\n",
      "Square Meters: 95 m^2\n",
      "Location: Barcelona\n",
      "\n"
     ]
    }
   ],
   "source": [
    "suitable_houses = find_suitable_houses(data, user_preferences)\n",
    "print_suitable_houses(suitable_houses)"
   ]
  }
 ],
 "metadata": {
  "kernelspec": {
   "display_name": "Python 3",
   "language": "python",
   "name": "python3"
  },
  "language_info": {
   "codemirror_mode": {
    "name": "ipython",
    "version": 3
   },
   "file_extension": ".py",
   "mimetype": "text/x-python",
   "name": "python",
   "nbconvert_exporter": "python",
   "pygments_lexer": "ipython3",
   "version": "3.12.2"
  }
 },
 "nbformat": 4,
 "nbformat_minor": 2
}
