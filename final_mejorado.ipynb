{
 "cells": [
  {
   "cell_type": "code",
   "execution_count": 6,
   "metadata": {},
   "outputs": [
    {
     "name": "stderr",
     "output_type": "stream",
     "text": [
      "[nltk_data] Downloading package omw-1.4 to C:\\Users\\Lola Monroy\n",
      "[nltk_data]     Mir\\AppData\\Roaming\\nltk_data...\n",
      "[nltk_data]   Package omw-1.4 is already up-to-date!\n",
      "[nltk_data] Downloading package stopwords to C:\\Users\\Lola Monroy\n",
      "[nltk_data]     Mir\\AppData\\Roaming\\nltk_data...\n",
      "[nltk_data]   Package stopwords is already up-to-date!\n",
      "[nltk_data] Downloading package wordnet to C:\\Users\\Lola Monroy\n",
      "[nltk_data]     Mir\\AppData\\Roaming\\nltk_data...\n",
      "[nltk_data]   Package wordnet is already up-to-date!\n",
      "[nltk_data] Downloading package punkt to C:\\Users\\Lola Monroy\n",
      "[nltk_data]     Mir\\AppData\\Roaming\\nltk_data...\n",
      "[nltk_data]   Package punkt is already up-to-date!\n"
     ]
    }
   ],
   "source": [
    "from nltk.tokenize.treebank import TreebankWordTokenizer\n",
    "import nltk\n",
    "nltk.download('omw-1.4')\n",
    "nltk.download('stopwords')\n",
    "nltk.download('wordnet')\n",
    "nltk.download('punkt')\n",
    "\n",
    "from nltk.corpus import stopwords\n",
    "from nltk.stem.porter import PorterStemmer\n",
    "from nltk.stem import WordNetLemmatizer\n",
    "from nltk.tokenize import TweetTokenizer\n",
    "\n",
    "import json\n",
    "import sys"
   ]
  },
  {
   "cell_type": "code",
   "execution_count": 7,
   "metadata": {},
   "outputs": [],
   "source": [
    "with open('house_data.json') as f:\n",
    "  data = json.load(f)"
   ]
  },
  {
   "cell_type": "code",
   "execution_count": 8,
   "metadata": {},
   "outputs": [],
   "source": [
    "data['houses'].append({'id': 26, 'type': 'sale', 'bedrooms': '5', 'bathrooms': '3', 'price': '200k', 'square_meters': '90', 'floor': '6', 'elevator': 'Yes', 'commercial_use': 'Yes', 'terrace': 'Yes', 'location': 'Tarragona'})\n",
    "\n",
    "id = 26\n",
    "house = data['houses'][id-1]"
   ]
  },
  {
   "cell_type": "code",
   "execution_count": 9,
   "metadata": {},
   "outputs": [],
   "source": [
    "def print_question(prompt, possible_options = []):\n",
    "    print(prompt)  # El chatbot imprimeix la pregunta \n",
    "    if not len(possible_options) == 0:  # En cas que la llista d'opcions NO estigui buida -> ha d'oferir opcions\n",
    "      print(\"Options:\", \", \".join(possible_options)) # Ofereix a l'usuari les possibles respostes \n",
    "\n",
    "def initialize_available_options(house_data, available_options): # available_options és un dict \n",
    "    for house in house_data['houses']: \n",
    "        for key, value in house.items():  # Per cada característica de cada casa\n",
    "            available_options.setdefault(key, set()).add(value)  # Guarda un set per cada característica amb totes les opcions que hi ha per cada una (un set per no tenir repetits)\n",
    "\n",
    "def preprocess_answer(answer): # Tokenitza la resposta del usuari\n",
    "    answer = nltk.word_tokenize(answer)\n",
    "    return answer \n",
    "\n",
    "def get_numerical_value(tok_answer): # Extreu valors numèrics de la resposta tokenitzada amb la funció anterior\n",
    "    for token in tok_answer:\n",
    "        if token.isnumeric() or token[:-1].isnumeric(): # Mira si el token és numèric o si sense l'ultim char ho és (per treure 'k' de 35k)\n",
    "            return token \n",
    "    return '' # Només retorna un valor numèric si el troba, sinó retorna '' osigui res"
   ]
  },
  {
   "cell_type": "code",
   "execution_count": 10,
   "metadata": {},
   "outputs": [],
   "source": [
    "def process_numerical_question(question): # question és un diccionari -> un item dins de data['questions']\n",
    "    print_question(question['question']) \n",
    "    while True: # Bucle fins que l'usuari retorni una resposta vàlida\n",
    "      answer = input(question['prompt']) # Espera la resposta de l'usuari, i espera que la resposta sigui el prompt corresponent\n",
    "      tok_answer = preprocess_answer(answer) # Tokenitza la resposta rebuda\n",
    "      value = get_numerical_value(tok_answer)\n",
    "      if not value == '': \n",
    "        return value # Retorna el valor numèric obtingut si en troba un\n",
    "\n",
    "def process_multichoice_question(question, options):\n",
    "    print_question(question['question'], options) # Li dona al user la pregunta i les opcions\n",
    "    while True:\n",
    "      answer = input(question['prompt'])\n",
    "      if answer in options: # Verifica si és opció vàlida\n",
    "        return answer"
   ]
  },
  {
   "cell_type": "code",
   "execution_count": 12,
   "metadata": {},
   "outputs": [
    {
     "name": "stdout",
     "output_type": "stream",
     "text": [
      "Welcome to the House Buying Assistant!\n",
      "How many bedrooms do you need?\n",
      "How many bathrooms do you need?\n",
      "What is your budget for the house?\n",
      "How many square meters do you need?\n",
      "Which city or neighborhood would you prefer?\n",
      "Options: L'Hospitalet de Llobregat, Barcelona, Santa Coloma de Gramenet, Esplugues de Llobregat, Tarragona\n"
     ]
    }
   ],
   "source": [
    "print(data['start_message']) \n",
    "\n",
    "user_preferences, available_options = {}, {} \n",
    "initialize_available_options(data, available_options) \n",
    "\n",
    "for question in data['questions']:\n",
    "  answer_key = question['answer_key'] \n",
    "  possible_options = list(available_options.get(answer_key))\n",
    "\n",
    "  if question['type'] == 'numerical':\n",
    "    answer = process_numerical_question(question)\n",
    "  else:\n",
    "    answer = process_multichoice_question(question, possible_options)\n",
    "\n",
    "  user_preferences[answer_key] = answer "
   ]
  },
  {
   "cell_type": "code",
   "execution_count": null,
   "metadata": {},
   "outputs": [],
   "source": []
  }
 ],
 "metadata": {
  "kernelspec": {
   "display_name": "Python 3",
   "language": "python",
   "name": "python3"
  },
  "language_info": {
   "codemirror_mode": {
    "name": "ipython",
    "version": 3
   },
   "file_extension": ".py",
   "mimetype": "text/x-python",
   "name": "python",
   "nbconvert_exporter": "python",
   "pygments_lexer": "ipython3",
   "version": "3.12.2"
  }
 },
 "nbformat": 4,
 "nbformat_minor": 2
}
