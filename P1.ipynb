{
  "cells": [
    {
      "cell_type": "markdown",
      "metadata": {
        "id": "nrD713VgwE3A"
      },
      "source": [
        "<center>\n",
        "<h1 style=\"font-family:verdana\">\n",
        " 🏘 Sistema de diàleg basat en regles 🏘 <h1>\n",
        "\n",
        "\n",
        "\n",
        "\n",
        "\n",
        "\n"
      ]
    },
    {
      "cell_type": "markdown",
      "metadata": {
        "id": "VOK-8Oq6zpUS"
      },
      "source": [
        "<p>   🎯 <b>Objectiu</b>: en aquesta pràctica aprendrem a crear un assistent senzill de compra d'habitatges. El sistema haurà d'identificar i mostrar les cases que coincideixen amb les preferències de l'usuari. A poc a poc anirem afegint-hi funcionalitats, perquè el sistema siga més complet. </p>\n",
        "\n",
        "<p> ✨ <b>Contingut</b>: en primer lloc, començarem amb un exemple senzill en què el sistema llançarà unes preguntes i respostes predefinides i l'usuari haurà d'escollir. A poc a poc anirem afegint-hi funcionalitats, perquè el sistema siga més complet. </p>\n",
        "\n",
        "✏ <b>Exercicis</b>: en cada secció anireu trobant exercicis que haureu d'anar resolent.\n",
        "\n",
        "### Lola Monroy Mir i Maria Gil Casas\n",
        "---\n",
        "\n",
        "<h2> Índex </h2>\n",
        "\n",
        "\n",
        "1. [Fitxer JSON](#section-one)\n",
        "  * [Exercici 1](#ex-one)\n",
        "2. [Sistema de diàleg senzill](#section-two)\n",
        "  * [Exercici 2](#ex-two)\n",
        "  * [Exercici 3](#ex-three)\n",
        "  * [Exercici 4](#ex-four)\n",
        "3. [Millorem el sistema de diàleg](#section-three)\n",
        "  * [Exercici 5](#ex-five)\n",
        "  * [Exercici 6](#ex-six)\n",
        "4. [Lliurable](#section-four)\n",
        "---\n"
      ]
    },
    {
      "cell_type": "code",
      "execution_count": 1,
      "metadata": {
        "colab": {
          "base_uri": "https://localhost:8080/"
        },
        "id": "IlPoWdgTrQX9",
        "outputId": "1bf1ba28-faed-42c6-8b51-13ac5488c0ee"
      },
      "outputs": [
        {
          "name": "stderr",
          "output_type": "stream",
          "text": [
            "[nltk_data] Downloading package omw-1.4 to\n",
            "[nltk_data]     C:\\Users\\maria\\AppData\\Roaming\\nltk_data...\n",
            "[nltk_data]   Package omw-1.4 is already up-to-date!\n",
            "[nltk_data] Downloading package stopwords to\n",
            "[nltk_data]     C:\\Users\\maria\\AppData\\Roaming\\nltk_data...\n",
            "[nltk_data]   Package stopwords is already up-to-date!\n",
            "[nltk_data] Downloading package wordnet to\n",
            "[nltk_data]     C:\\Users\\maria\\AppData\\Roaming\\nltk_data...\n",
            "[nltk_data]   Package wordnet is already up-to-date!\n",
            "[nltk_data] Downloading package punkt to\n",
            "[nltk_data]     C:\\Users\\maria\\AppData\\Roaming\\nltk_data...\n",
            "[nltk_data]   Package punkt is already up-to-date!\n"
          ]
        }
      ],
      "source": [
        "from nltk.tokenize.treebank import TreebankWordTokenizer\n",
        "import nltk\n",
        "nltk.download('omw-1.4')\n",
        "nltk.download('stopwords')\n",
        "nltk.download('wordnet')\n",
        "nltk.download('punkt')\n",
        "\n",
        "from nltk.corpus import stopwords\n",
        "from nltk.stem.porter import PorterStemmer\n",
        "from nltk.stem import WordNetLemmatizer\n",
        "from nltk.tokenize import TweetTokenizer\n",
        "\n",
        "import json\n",
        "import sys"
      ]
    },
    {
      "cell_type": "markdown",
      "metadata": {
        "id": "Zy3WwD_FPJFW"
      },
      "source": [
        "<h1><a name=\"section-one\"> 1. Fitxer JSON </a></h1>\n",
        "\n",
        "En primer lloc, carregarem el fitxer JSON per analitzar-ne l'estructura."
      ]
    },
    {
      "cell_type": "code",
      "execution_count": 2,
      "metadata": {
        "colab": {
          "base_uri": "https://localhost:8080/"
        },
        "id": "kR5ovNENrER1",
        "outputId": "8d1bdb9b-ddb3-41fc-87aa-746032d44b4a"
      },
      "outputs": [
        {
          "name": "stdout",
          "output_type": "stream",
          "text": [
            "Start message:  Welcome to the House Buying Assistant!\n",
            "End message:  Thank you for using the House Buying Assistant. Goodbye!\n",
            "Questions:  [{'question': 'How many bedrooms do you need?', 'type': 'numerical', 'prompt': 'Enter your choice (1 - 5 bedrooms): ', 'answer_key': 'bedrooms'}, {'question': 'How many bathrooms do you need?', 'type': 'numerical', 'prompt': 'Enter your choice (1 - 3 bathrooms): ', 'answer_key': 'bathrooms'}, {'question': 'What is your budget for the house?', 'type': 'numerical', 'prompt': 'Enter your choice (1k - 999k euros):', 'answer_key': 'price'}, {'question': 'How many square meters do you need?', 'type': 'numerical', 'prompt': 'Enter your choice (30 - 200 meters)', 'answer_key': 'square_meters'}, {'question': 'Which city or neighborhood would you prefer?', 'type': 'multichoice', 'prompt': 'Enter your choice', 'answer_key': 'location'}]\n",
            "House:  [{'id': 1, 'type': 'rent', 'bedrooms': '3', 'bathrooms': '2', 'price': '1200', 'square_meters': '100', 'floor': '3', 'elevator': 'Yes', 'commercial_use': 'No', 'terrace': 'No', 'location': 'Santa Coloma de Gramenet'}, {'id': 2, 'type': 'sale', 'bedrooms': '4', 'bathrooms': '2', 'price': '250k', 'square_meters': '120', 'floor': '0', 'elevator': 'No', 'commercial_use': 'Yes', 'terrace': 'Yes', 'location': 'Santa Coloma de Gramenet'}, {'id': 3, 'type': 'rent', 'bedrooms': '2', 'bathrooms': '1', 'price': '800', 'square_meters': '80', 'floor': '8', 'elevator': 'Yes', 'commercial_use': 'No', 'terrace': 'No', 'location': 'Santa Coloma de Gramenet'}, {'id': 4, 'type': 'sale', 'bedrooms': '1', 'bathrooms': '1', 'price': '100k', 'square_meters': '50', 'floor': '1', 'elevator': 'No', 'commercial_use': 'No', 'terrace': 'No', 'location': 'Santa Coloma de Gramenet'}, {'id': 5, 'type': 'rent', 'bedrooms': '1', 'bathrooms': '1', 'price': '650', 'square_meters': '55', 'floor': '2', 'elevator': 'No', 'commercial_use': 'Yes', 'terrace': 'No', 'location': 'Santa Coloma de Gramenet'}, {'id': 6, 'type': 'sale', 'bedrooms': '2', 'bathrooms': '1', 'price': '120k', 'square_meters': '80', 'floor': '4', 'elevator': 'No', 'commercial_use': 'No', 'terrace': 'No', 'location': 'Santa Coloma de Gramenet'}, {'id': 7, 'type': 'rent', 'bedrooms': '5', 'bathrooms': '2', 'price': '2000', 'square_meters': '150', 'floor': '2', 'elevator': 'Yes', 'commercial_use': 'No', 'terrace': 'Yes', 'location': 'Santa Coloma de Gramenet'}, {'id': 8, 'type': 'sale', 'bedrooms': '4', 'bathrooms': '2', 'price': '400k', 'square_meters': '150', 'floor': '5', 'elevator': 'Yes', 'commercial_use': 'Yes', 'terrace': 'Yes', 'location': 'Esplugues de Llobregat'}, {'id': 9, 'type': 'rent', 'bedrooms': '1', 'bathrooms': '1', 'price': '700', 'square_meters': '55', 'floor': '3', 'elevator': 'No', 'commercial_use': 'No', 'terrace': 'Yes', 'location': 'Esplugues de Llobregat'}, {'id': 10, 'type': 'sale', 'bedrooms': '4', 'bathrooms': '3', 'price': '262k', 'square_meters': '75', 'floor': '1', 'elevator': 'Yes', 'commercial_use': 'Yes', 'terrace': 'No', 'location': 'Esplugues de Llobregat'}, {'id': 11, 'type': 'rent', 'bedrooms': '3', 'bathrooms': '1', 'price': '1100', 'square_meters': '60', 'floor': '2', 'elevator': 'No', 'commercial_use': 'No', 'terrace': 'Yes', 'location': 'Esplugues de Llobregat'}, {'id': 12, 'type': 'sale', 'bedrooms': '4', 'bathrooms': '2', 'price': '350k', 'square_meters': '100', 'floor': '6', 'elevator': 'Yes', 'commercial_use': 'Yes', 'terrace': 'Yes', 'location': 'Esplugues de Llobregat'}, {'id': 13, 'type': 'sale', 'bedrooms': '4', 'bathrooms': '2', 'price': '330k', 'square_meters': '150', 'floor': '2', 'elevator': 'Yes', 'commercial_use': 'Yes', 'terrace': 'Yes', 'location': \"L'Hospitalet de Llobregat\"}, {'id': 14, 'type': 'rent', 'bedrooms': '3', 'bathrooms': '1', 'price': '1500', 'square_meters': '100', 'floor': '3', 'elevator': 'No', 'commercial_use': 'No', 'terrace': 'No', 'location': \"L'Hospitalet de Llobregat\"}, {'id': 15, 'type': 'sale', 'bedrooms': '2', 'bathrooms': '1', 'price': '190k', 'square_meters': '75', 'floor': '0', 'elevator': 'No', 'commercial_use': 'Yes', 'terrace': 'Yes', 'location': \"L'Hospitalet de Llobregat\"}, {'id': 16, 'type': 'sale', 'bedrooms': '3', 'bathrooms': '2', 'price': '176k', 'square_meters': '80', 'floor': '1', 'elevator': 'No', 'commercial_use': 'No', 'terrace': 'No', 'location': \"L'Hospitalet de Llobregat\"}, {'id': 17, 'type': 'rent', 'bedrooms': '1', 'bathrooms': '1', 'price': '450', 'square_meters': '45', 'floor': '6', 'elevator': 'No', 'commercial_use': 'No', 'terrace': 'No', 'location': 'Barcelona'}, {'id': 18, 'type': 'rent', 'bedrooms': '1', 'bathrooms': '1', 'price': '850', 'square_meters': '50', 'floor': '4', 'elevator': 'Yes', 'commercial_use': 'No', 'terrace': 'Yes', 'location': 'Barcelona'}, {'id': 19, 'type': 'rent', 'bedrooms': '3', 'bathrooms': '1', 'price': '600', 'square_meters': '75', 'floor': '1', 'elevator': 'No', 'commercial_use': 'Yes', 'terrace': 'Yes', 'location': 'Barcelona'}, {'id': 20, 'type': 'sale', 'bedrooms': '3', 'bathrooms': '2', 'price': '360k', 'square_meters': '90', 'floor': '2', 'elevator': 'No', 'commercial_use': 'No', 'terrace': 'Yes', 'location': 'Barcelona'}, {'id': 21, 'type': 'sale', 'bedrooms': '4', 'bathrooms': '2', 'price': '480k', 'square_meters': '120', 'floor': '3', 'elevator': 'Yes', 'commercial_use': 'Yes', 'terrace': 'Yes', 'location': 'Barcelona'}, {'id': 22, 'type': 'rent', 'bedrooms': '4', 'bathrooms': '2', 'price': '3000', 'square_meters': '100', 'floor': '0', 'elevator': 'No', 'commercial_use': 'Yes', 'terrace': 'No', 'location': 'Barcelona'}, {'id': 23, 'type': 'sale', 'bedrooms': '3', 'bathrooms': '2', 'price': '285k', 'square_meters': '95', 'floor': '1', 'elevator': 'Yes', 'commercial_use': 'No', 'terrace': 'No', 'location': 'Barcelona'}, {'id': 24, 'type': 'sale', 'bedrooms': '1', 'bathrooms': '1', 'price': '200k', 'square_meters': '50', 'floor': '2', 'elevator': 'No', 'commercial_use': 'No', 'terrace': 'Yes', 'location': 'Barcelona'}, {'id': 25, 'type': 'sale', 'bedrooms': '2', 'bathrooms': '1', 'price': '180k', 'square_meters': '60', 'floor': '3', 'elevator': 'No', 'commercial_use': 'Yes', 'terrace': 'No', 'location': 'Barcelona'}]\n"
          ]
        }
      ],
      "source": [
        "with open('house_data.json') as f:\n",
        "  data = json.load(f)\n",
        "\n",
        "print('Start message: ', data['start_message'])\n",
        "print('End message: ', data['end_message'])\n",
        "print('Questions: ', data['questions']) # Té una llista de preguntes (cada una és un diccionari) amb el seu tipus, prompt, i clau de resposta\n",
        "print('House: ', data['houses']) # Té una llista de cases (cada una és un diccionari) amb el seu identificador, el tipus, num d'hab, preu, etc"
      ]
    },
    {
      "cell_type": "markdown",
      "metadata": {
        "id": "44cDB0gnrnCF"
      },
      "source": [
        "Podeu veure com al fitxer JSON podem trobar el missatge de benvinguda i el missatge de comiat. Les diferents preguntes predefinides que el sistema demanarà a l'usuari. I les cases que l'agència té disponibles per a oferir a l'usuari.\n",
        "\n",
        "Si no acabeu d'entendre el format, podeu copiar el contingut del fitxer JSON [aquí](https://jsonviewer.stack.hu/) per visualitzar millor l'estructura."
      ]
    },
    {
      "cell_type": "markdown",
      "metadata": {
        "id": "VY74xa6_PdJ5"
      },
      "source": [
        "---\n",
        "\n",
        "\n",
        "\n",
        " <h1><a name=\"ex-one\"><center> ✏ Exercici 1 ✏</a></h1>\n"
      ]
    },
    {
      "cell_type": "markdown",
      "metadata": {
        "id": "203gq-tFsp3n"
      },
      "source": [
        "En aquest primer exercici us demanem que afegiu una nova casa manualment al fitxer JSON amb l'id 26. La resta de camps els podeu emplenar com vulgueu.\n",
        "\n",
        "Si ho heu fet correctament podreu veure al següent *print* les dades que heu introduït."
      ]
    },
    {
      "cell_type": "code",
      "execution_count": 3,
      "metadata": {},
      "outputs": [],
      "source": [
        "# Implementació nostra:\n",
        "# Hi ha ara 25 cases a la base de dades, per afegir la de id 26, la coloquem a la posició 25 (perquè les posicions comencen a 0)\n",
        "\n",
        "data['houses'].append({'id': 26, 'type': 'sale', 'bedrooms': '5', 'bathrooms': '3', 'price': '200k', 'square_meters': '90', 'floor': '6', 'elevator': 'Yes', 'commercial_use': 'Yes', 'terrace': 'Yes', 'location': 'Tarragona'})"
      ]
    },
    {
      "cell_type": "code",
      "execution_count": 4,
      "metadata": {
        "id": "djlcHiwQIRAU"
      },
      "outputs": [
        {
          "name": "stdout",
          "output_type": "stream",
          "text": [
            "House ID: 26\n",
            "Bedrooms: 5\n",
            "Bathrooms: 3\n",
            "Price: 200k\n",
            "Square Meters: 90\n",
            "Location: Tarragona\n"
          ]
        }
      ],
      "source": [
        "id = 26\n",
        "house = data['houses'][id-1]\n",
        "\n",
        "print(f\"House ID: {house['id']}\")\n",
        "print(f\"Bedrooms: {house['bedrooms']}\")\n",
        "print(f\"Bathrooms: {house['bathrooms']}\")\n",
        "print(f\"Price: {house['price']}\")\n",
        "print(f\"Square Meters: {house['square_meters']}\")\n",
        "print(f\"Location: {house['location']}\")"
      ]
    },
    {
      "cell_type": "markdown",
      "metadata": {
        "id": "KHihCXXdWvJJ"
      },
      "source": [
        "---"
      ]
    },
    {
      "cell_type": "markdown",
      "metadata": {
        "id": "K1F0NWgvPUdG"
      },
      "source": [
        "<h1><a name=\"section-two\"> 2. Sistema de diàleg senzill </a></h1>\n"
      ]
    },
    {
      "cell_type": "markdown",
      "metadata": {
        "id": "vqkW23xFMzx-"
      },
      "source": [
        "En aquesta primera part crearem un sistema senzill que mostrarà les preguntes predefinides i, a continuació l'usuari haurà d'introduir la resposta. Tractarem de manera diferent les preguntes en què la resposta siga un número i les preguntes d'opció múltiple.\n",
        "\n",
        "Intenteu entendre el funcionament, ja que treballarem sobre aquest codi."
      ]
    },
    {
      "cell_type": "code",
      "execution_count": 5,
      "metadata": {
        "colab": {
          "base_uri": "https://localhost:8080/"
        },
        "id": "9B892KaLOG_M",
        "outputId": "571170c6-b91a-4313-c4a0-1d1b99eb1549"
      },
      "outputs": [
        {
          "name": "stdout",
          "output_type": "stream",
          "text": [
            "['Vull', 'un', 'pis', 'de', '35k', '€']\n"
          ]
        }
      ],
      "source": [
        "def print_question(prompt, possible_options = []):\n",
        "    print(prompt)  # El chatbot imprimeix la pregunta \n",
        "    if not len(possible_options) == 0:  # En cas que la llista d'opcions NO estigui buida -> ha d'oferir opcions\n",
        "      print(\"Options:\", \", \".join(possible_options)) # Ofereix a l'usuari les possibles respostes \n",
        "\n",
        "def initialize_available_options(house_data, available_options): # available_options és un dict \n",
        "    for house in house_data['houses']: \n",
        "        for key, value in house.items():  # Per cada característica de cada casa\n",
        "            available_options.setdefault(key, set()).add(value)  # Guarda un set per cada característica amb totes les opcions que hi ha per cada una (un set per no tenir repetits)\n",
        "\n",
        "def preprocess_answer(answer): # Tokenitza la resposta del usuari\n",
        "    answer = nltk.word_tokenize(answer)\n",
        "    return answer \n",
        "\n",
        "def get_numerical_value(tok_answer): # Extreu valors numèrics de la resposta tokenitzada amb la funció anterior\n",
        "    for token in tok_answer:\n",
        "        if token.isnumeric() or token[:-1].isnumeric(): # Mira si el token és numèric o si sense l'ultim char ho és (per treure 'k' de 35k)\n",
        "            return token \n",
        "    return '' # Només retorna un valor numèric si el troba, sinó retorna '' osigui res\n",
        "\n",
        "# Exemple de frase tokenitzada:\n",
        "print(preprocess_answer('Vull un pis de 35k €'))"
      ]
    },
    {
      "cell_type": "markdown",
      "metadata": {},
      "source": [
        "! aquí faltaria control de pregunta:"
      ]
    },
    {
      "cell_type": "code",
      "execution_count": 6,
      "metadata": {
        "colab": {
          "base_uri": "https://localhost:8080/",
          "height": 418
        },
        "id": "-HVQvjfyrbTr",
        "outputId": "b9f6a3fb-abb0-406a-b6cc-6fccd58034d0"
      },
      "outputs": [],
      "source": [
        "def process_numerical_question(question): # question és un diccionari -> un item dins de data['questions']\n",
        "    print_question(question['question']) \n",
        "    while True: # Bucle fins que l'usuari retorni una resposta vàlida\n",
        "      answer = input(question['prompt']) # Espera la resposta de l'usuari, i espera que la resposta sigui el prompt corresponent\n",
        "      tok_answer = preprocess_answer(answer) # Tokenitza la resposta rebuda\n",
        "      value = get_numerical_value(tok_answer)\n",
        "      if not value == '': \n",
        "        return value # Retorna el valor numèric obtingut si en troba un\n",
        "\n",
        "def process_multichoice_question(question, options):\n",
        "    print_question(question['question'], options) # Li dona al user la pregunta i les opcions\n",
        "    while True:\n",
        "      answer = input(question['prompt'])\n",
        "      if answer in options: # Verifica si és opció vàlida\n",
        "        return answer"
      ]
    },
    {
      "cell_type": "code",
      "execution_count": 7,
      "metadata": {},
      "outputs": [
        {
          "name": "stdout",
          "output_type": "stream",
          "text": [
            "How many bedrooms do you need?\n",
            "How many bathrooms do you need?\n",
            "What is your budget for the house?\n",
            "How many square meters do you need?\n",
            "Which city or neighborhood would you prefer?\n",
            "Options: Santa Coloma de Gramenet, Barcelona, Tarragona, Esplugues de Llobregat, L'Hospitalet de Llobregat\n"
          ]
        }
      ],
      "source": [
        "user_preferences, available_options = {}, {} # A user preferences es guarda el que va escollint (contestant) l'usuari\n",
        "initialize_available_options(data, available_options) \n",
        "\n",
        "for question in data['questions']:\n",
        "  answer_key = question['answer_key'] # Extreu la clau de la resposta per guardar-ho com a clau de user_preferences i donar-li el valor de la reposta que doni\n",
        "  possible_options = list(available_options.get(answer_key))\n",
        "\n",
        "  if question['type'] == 'numerical':\n",
        "    answer = process_numerical_question(question)\n",
        "  else:\n",
        "    answer = process_multichoice_question(question, possible_options)\n",
        "\n",
        "  user_preferences[answer_key] = answer "
      ]
    },
    {
      "cell_type": "markdown",
      "metadata": {
        "id": "YBznMtYjPwAT"
      },
      "source": [
        "\n",
        "\n",
        "---\n",
        "\n",
        "\n",
        " <h1><a name=\"ex-two\"><center> ✏ Exercici 2 ✏ </a></h1>"
      ]
    },
    {
      "cell_type": "markdown",
      "metadata": {
        "id": "H0fcTQe1XlmV"
      },
      "source": [
        "A continuació millorarem un poc el sistema. Us proposem que afegiu la frase de benvinguda que tenim guardada al fitxer JSON. És a dir, abans de mostrar la primera pregunta el sistema ens donarà la benvinguda."
      ]
    },
    {
      "cell_type": "code",
      "execution_count": 8,
      "metadata": {
        "id": "gScFQPPDYFy3"
      },
      "outputs": [
        {
          "name": "stdout",
          "output_type": "stream",
          "text": [
            "Welcome to the House Buying Assistant!\n",
            "How many bedrooms do you need?\n",
            "How many bathrooms do you need?\n",
            "What is your budget for the house?\n",
            "How many square meters do you need?\n",
            "Which city or neighborhood would you prefer?\n",
            "Options: Santa Coloma de Gramenet, Barcelona, Tarragona, Esplugues de Llobregat, L'Hospitalet de Llobregat\n"
          ]
        }
      ],
      "source": [
        "#TO DO:\n",
        "print(data['start_message']) # AFEGIM FRASE DE BENVINGUDA\n",
        "\n",
        "user_preferences, available_options = {}, {} \n",
        "initialize_available_options(data, available_options) \n",
        "\n",
        "for question in data['questions']:\n",
        "  answer_key = question['answer_key'] \n",
        "  possible_options = list(available_options.get(answer_key))\n",
        "\n",
        "  if question['type'] == 'numerical':\n",
        "    answer = process_numerical_question(question)\n",
        "  else:\n",
        "    answer = process_multichoice_question(question, possible_options)\n",
        "\n",
        "  user_preferences[answer_key] = answer "
      ]
    },
    {
      "cell_type": "markdown",
      "metadata": {
        "id": "_ygcX-SXPy__"
      },
      "source": [
        "---\n",
        "\n",
        "\n",
        " <h1><a name=\"ex-three\"><center> ✏ Exercici 3 ✏ </a></h1>\n",
        "\n",
        "En aquest exercici us demanem que permeteu a l'usuari abandonar el programa quan ho desitge. Per exemple, si l'usuari escriu `quit`, que el sistema s'acomiade amb l'oració de comiat que trobareu al JSON i finalitze el programa.\n",
        "\n",
        "\n",
        "🙃 `sys.exit()` genera una excepció SystemExit."
      ]
    },
    {
      "cell_type": "code",
      "execution_count": 9,
      "metadata": {
        "id": "e7gUiHk6EeYc"
      },
      "outputs": [
        {
          "name": "stdout",
          "output_type": "stream",
          "text": [
            "Welcome to the House Buying Assistant!\n",
            "How many bedrooms do you need?\n",
            "How many bathrooms do you need?\n",
            "What is your budget for the house?\n",
            "How many square meters do you need?\n",
            "Which city or neighborhood would you prefer?\n",
            "Options: Santa Coloma de Gramenet, Barcelona, Tarragona, Esplugues de Llobregat, L'Hospitalet de Llobregat\n"
          ]
        }
      ],
      "source": [
        "#TO DO:\n",
        "def process_numerical_question(question): \n",
        "    print_question(question['question']) \n",
        "    while True: \n",
        "      answer = input(question['prompt']) \n",
        "      if answer == 'quit': # IMPLEMENTACIÓ DEL SYS EXIT\n",
        "         print(data['end_message'])\n",
        "         sys.exit()\n",
        "      tok_answer = preprocess_answer(answer) \n",
        "      value = get_numerical_value(tok_answer)\n",
        "      if not value == '': \n",
        "        return value \n",
        "\n",
        "def process_multichoice_question(question, options):\n",
        "    print_question(question['question'], options) \n",
        "    while True:\n",
        "      answer = input(question['prompt'])\n",
        "      if answer == 'quit': # IMPLEMENTACIÓ DEL SYS EXIT\n",
        "         print(data['end_message'])\n",
        "         sys.exit()\n",
        "      if answer in options:\n",
        "        return answer\n",
        "      \n",
        "# Per provar si ha funcionat:\n",
        "print(data['start_message'])\n",
        "\n",
        "user_preferences, available_options = {}, {} \n",
        "initialize_available_options(data, available_options) \n",
        "\n",
        "for question in data['questions']:\n",
        "  answer_key = question['answer_key'] \n",
        "  possible_options = list(available_options.get(answer_key))\n",
        "\n",
        "  if question['type'] == 'numerical':\n",
        "    answer = process_numerical_question(question)\n",
        "  else:\n",
        "    answer = process_multichoice_question(question, possible_options)\n",
        "\n",
        "  user_preferences[answer_key] = answer "
      ]
    },
    {
      "cell_type": "markdown",
      "metadata": {
        "id": "6-mx4dwNmthd"
      },
      "source": [
        "Funciona també si escriviu `Quit`?"
      ]
    },
    {
      "cell_type": "markdown",
      "metadata": {},
      "source": [
        "Resposta:   \n",
        "No funciona, només quan està en minúscula. Es pot resoldre preprocessant la resposta i passant-ho tot a minúscules, per així poder escriure Quit, o QUIT i que funcioni igualment:"
      ]
    },
    {
      "cell_type": "code",
      "execution_count": 11,
      "metadata": {},
      "outputs": [],
      "source": [
        "def process_numerical_question(question): \n",
        "    print_question(question['question']) \n",
        "    while True: \n",
        "      answer = input(question['prompt']) \n",
        "      if answer.lower() == 'quit':\n",
        "         print(data['end_message'])\n",
        "         sys.exit()\n",
        "      tok_answer = preprocess_answer(answer) \n",
        "      value = get_numerical_value(tok_answer)\n",
        "      if not value == '': \n",
        "        return value \n",
        "\n",
        "def process_multichoice_question(question, options):\n",
        "    print_question(question['question'], options) \n",
        "    while True:\n",
        "      answer = input(question['prompt'])\n",
        "      if answer.lower() == 'quit':\n",
        "         print(data['end_message'])\n",
        "         sys.exit()\n",
        "      if answer in options:\n",
        "        return answer"
      ]
    },
    {
      "cell_type": "markdown",
      "metadata": {
        "id": "QcOE82F-P1lQ"
      },
      "source": [
        "---\n",
        "\n",
        " <h1><a name=\"ex-four\"><center> ✏ Exercici 4 ✏ </a></h1>"
      ]
    },
    {
      "cell_type": "code",
      "execution_count": 12,
      "metadata": {},
      "outputs": [
        {
          "name": "stdout",
          "output_type": "stream",
          "text": [
            "Welcome to the House Buying Assistant!\n",
            "How many bedrooms do you need?\n",
            "How many bathrooms do you need?\n",
            "What is your budget for the house?\n",
            "How many square meters do you need?\n",
            "Which city or neighborhood would you prefer?\n",
            "Options: Santa Coloma de Gramenet, Barcelona, Tarragona, Esplugues de Llobregat, L'Hospitalet de Llobregat\n"
          ]
        }
      ],
      "source": [
        "print(data['start_message'])\n",
        "user_preferences, available_options = {}, {} \n",
        "initialize_available_options(data, available_options) \n",
        "for question in data['questions']:\n",
        "  answer_key = question['answer_key'] \n",
        "  possible_options = list(available_options.get(answer_key))\n",
        "\n",
        "  if question['type'] == 'numerical':\n",
        "    answer = process_numerical_question(question)\n",
        "  else:\n",
        "    answer = process_multichoice_question(question, possible_options)\n",
        "\n",
        "  user_preferences[answer_key] = answer "
      ]
    },
    {
      "cell_type": "markdown",
      "metadata": {
        "id": "F-is-nYIZVop"
      },
      "source": [
        "Fins ara tenim a `user_preferences` les opcions que l'usuari ha escollit.\n",
        "\n",
        "\n",
        "\n",
        "\n",
        "\n"
      ]
    },
    {
      "cell_type": "code",
      "execution_count": 13,
      "metadata": {
        "id": "1GSRF2RiTarQ"
      },
      "outputs": [
        {
          "data": {
            "text/plain": [
              "{'bedrooms': '1',\n",
              " 'bathrooms': '1',\n",
              " 'price': '12',\n",
              " 'square_meters': '40',\n",
              " 'location': 'Tarragona'}"
            ]
          },
          "execution_count": 13,
          "metadata": {},
          "output_type": "execute_result"
        }
      ],
      "source": [
        "user_preferences"
      ]
    },
    {
      "cell_type": "markdown",
      "metadata": {
        "id": "pxX2XqAsMjvq"
      },
      "source": [
        "Per tant, ara haurem de revisar si l'agència disposa d'alguna casa disponible amb aquestes característiques. Per això us proposem completar la funció `find_suitable_houses`. Aquesta funció tornarà una llista amb tants diccionaris com cases disponibles. Per exemple si segons les preferències de l'usuari només està disponible la casa amb id 3, `suitable_house` serà:\n",
        "\n",
        "\n",
        "```\n",
        "[{'id': 3, 'bedrooms': '2', 'bathrooms': '1', 'price': '160k', 'square_meters': '80', 'location': 'Santa Coloma de Gramenet'}]\n",
        "```"
      ]
    },
    {
      "cell_type": "code",
      "execution_count": 14,
      "metadata": {
        "id": "0GOWOCnuaN5f"
      },
      "outputs": [],
      "source": [
        "#TO DO:\n",
        "def find_suitable_houses(data, user_preferences):\n",
        "    suitable_houses = []\n",
        "\n",
        "    filters = {\n",
        "        'bedrooms': lambda answer, house: int(house) >= int(answer),\n",
        "        'bathrooms': lambda answer, house: int(house) >= int(answer),\n",
        "        'price': lambda answer, house: int(house[:-1]) <= int(answer[:-1]),\n",
        "        'square_meters': lambda answer, house: int(house) >= int(answer),\n",
        "        'location': lambda answer, house: house == answer\n",
        "    }\n",
        "\n",
        "    for house in data['houses']:\n",
        "        is_suitable = True\n",
        "        for key, filter_func in filters.items():\n",
        "            if key in user_preferences:\n",
        "                if not filter_func(user_preferences[key], house[key]):\n",
        "                    is_suitable = False\n",
        "                    break\n",
        "        if is_suitable:\n",
        "            suitable_houses.append(house)\n",
        "    \n",
        "    return suitable_houses"
      ]
    },
    {
      "cell_type": "markdown",
      "metadata": {
        "id": "Fo-4vsc2WIPx"
      },
      "source": [
        "---\n",
        "\n"
      ]
    },
    {
      "cell_type": "markdown",
      "metadata": {
        "id": "EJ08m-3T21eS"
      },
      "source": [
        "Una vegada tingueu la funció `find_suitable_houses` programada, podreu executar el següent *script* que us mostrarà, si n'hi ha, la casa o cases disponibles amb les característiques que heu triat."
      ]
    },
    {
      "cell_type": "code",
      "execution_count": 15,
      "metadata": {
        "id": "UyT1h1hcakNl"
      },
      "outputs": [
        {
          "name": "stdout",
          "output_type": "stream",
          "text": [
            "\n",
            "Sorry, no suitable houses match your preferences. \n",
            "\n"
          ]
        }
      ],
      "source": [
        "def print_suitable_houses(suitable_houses):\n",
        "  if suitable_houses:\n",
        "    print(\"\\nBased on your preferences, the most suitable houses are:\")\n",
        "    for house in suitable_houses:\n",
        "      print(f\"House ID: {house['id']}\")\n",
        "      print(f\"Type: {house['type']}\")\n",
        "      print(\"Bedrooms:\", house['bedrooms'])\n",
        "      print(\"Bathrooms:\", house['bathrooms'])\n",
        "      print(\"Price:\", house['price'], \"euros\")\n",
        "      print(\"Square Meters:\", house['square_meters'], \"m^2\")\n",
        "      print(\"Location:\", house['location'])\n",
        "      print()\n",
        "  else:\n",
        "    print(\"\\nSorry, no suitable houses match your preferences. \\n\")\n",
        "suitable_houses = find_suitable_houses(data, user_preferences)\n",
        "print_suitable_houses(suitable_houses)"
      ]
    },
    {
      "cell_type": "markdown",
      "metadata": {
        "id": "TCiN1L6SP4sU"
      },
      "source": [
        "<h1><a name=\"section-three\"> 3. Millorem el sistema de diàleg </a></h1>\n"
      ]
    },
    {
      "cell_type": "markdown",
      "metadata": {
        "id": "quqFEbxvQEmV"
      },
      "source": [
        "---\n",
        "\n",
        "\n",
        " <h1><a name=\"ex-five\"><center> ✏ Exercici 5 ✏ </a></h1>\n",
        "\n",
        "Tal com haureu comprovat sempre esteu obligats a triar una opció. En aquest últim exercici proposem que afegiu l'opció de no triar-ne cap. És a dir, si ens és igual el nombre d'habitacions, podrem posar per exemple `any` i el sistema ens farà la següent pregunta."
      ]
    },
    {
      "cell_type": "code",
      "execution_count": 16,
      "metadata": {
        "id": "t_OJqUoF5NE-"
      },
      "outputs": [],
      "source": [
        "# TO DO: MODIFIQUEM LES FUNCIONS PERQUÈ ACCEPTI ANY \n",
        "def process_numerical_question(question):\n",
        "    print_question(question['question']) \n",
        "    while True:\n",
        "        answer = input(question['prompt'])  \n",
        "        if answer.lower() == 'any':  \n",
        "            return 'any'\n",
        "        tok_answer = preprocess_answer(answer)\n",
        "        value = get_numerical_value(tok_answer)\n",
        "        if value != '': \n",
        "            return value\n",
        "\n",
        "def process_multichoice_question(question, options):\n",
        "    print_question(question['question'], options)  \n",
        "    while True:\n",
        "        answer = input(question['prompt']) \n",
        "        if answer.lower() == 'any':  \n",
        "            return 'any'\n",
        "        if answer in options: \n",
        "            return answer\n",
        "        \n",
        "def find_suitable_houses(data, user_preferences):\n",
        "    suitable_houses = []\n",
        "\n",
        "    filters = {\n",
        "        'bedrooms': lambda answer, house: int(house) >= int(answer) if answer != 'any' else True,\n",
        "        'bathrooms': lambda answer, house: int(house) >= int(answer) if answer != 'any' else True,\n",
        "        'price': lambda answer, house: int(house[:-1]) <= int(answer[:-1]) if answer != 'any' else True,\n",
        "        'square_meters': lambda answer, house: int(house) >= int(answer) if answer != 'any' else True,\n",
        "        'location': lambda answer, house: house == answer if answer != 'any' else True\n",
        "    }\n",
        "\n",
        "    for house in data['houses']:\n",
        "        is_suitable = True\n",
        "        for key, filter_func in filters.items():\n",
        "            if key in user_preferences:\n",
        "                if not filter_func(user_preferences[key], house[key]):\n",
        "                    is_suitable = False\n",
        "                    break\n",
        "        if is_suitable:\n",
        "            suitable_houses.append(house)\n",
        "    \n",
        "    return suitable_houses"
      ]
    },
    {
      "cell_type": "code",
      "execution_count": 17,
      "metadata": {},
      "outputs": [
        {
          "name": "stdout",
          "output_type": "stream",
          "text": [
            "Welcome to the House Buying Assistant!\n",
            "How many bedrooms do you need?\n",
            "How many bathrooms do you need?\n",
            "What is your budget for the house?\n",
            "How many square meters do you need?\n",
            "Which city or neighborhood would you prefer?\n",
            "Options: Santa Coloma de Gramenet, Barcelona, Tarragona, Esplugues de Llobregat, L'Hospitalet de Llobregat\n",
            "\n",
            "Based on your preferences, the most suitable houses are:\n",
            "House ID: 8\n",
            "Type: sale\n",
            "Bedrooms: 4\n",
            "Bathrooms: 2\n",
            "Price: 400k euros\n",
            "Square Meters: 150 m^2\n",
            "Location: Esplugues de Llobregat\n",
            "\n",
            "House ID: 9\n",
            "Type: rent\n",
            "Bedrooms: 1\n",
            "Bathrooms: 1\n",
            "Price: 700 euros\n",
            "Square Meters: 55 m^2\n",
            "Location: Esplugues de Llobregat\n",
            "\n",
            "House ID: 10\n",
            "Type: sale\n",
            "Bedrooms: 4\n",
            "Bathrooms: 3\n",
            "Price: 262k euros\n",
            "Square Meters: 75 m^2\n",
            "Location: Esplugues de Llobregat\n",
            "\n",
            "House ID: 11\n",
            "Type: rent\n",
            "Bedrooms: 3\n",
            "Bathrooms: 1\n",
            "Price: 1100 euros\n",
            "Square Meters: 60 m^2\n",
            "Location: Esplugues de Llobregat\n",
            "\n",
            "House ID: 12\n",
            "Type: sale\n",
            "Bedrooms: 4\n",
            "Bathrooms: 2\n",
            "Price: 350k euros\n",
            "Square Meters: 100 m^2\n",
            "Location: Esplugues de Llobregat\n",
            "\n"
          ]
        }
      ],
      "source": [
        "print(data['start_message'])\n",
        "user_preferences, available_options = {}, {} \n",
        "initialize_available_options(data, available_options) \n",
        "for question in data['questions']:\n",
        "  answer_key = question['answer_key'] \n",
        "  possible_options = list(available_options.get(answer_key))\n",
        "\n",
        "  if question['type'] == 'numerical':\n",
        "    answer = process_numerical_question(question)\n",
        "  else:\n",
        "    answer = process_multichoice_question(question, possible_options)\n",
        "\n",
        "  user_preferences[answer_key] = answer \n",
        "\n",
        "def print_suitable_houses(suitable_houses):\n",
        "  if suitable_houses:\n",
        "    print(\"\\nBased on your preferences, the most suitable houses are:\")\n",
        "    for house in suitable_houses:\n",
        "      print(f\"House ID: {house['id']}\")\n",
        "      print(f\"Type: {house['type']}\")\n",
        "      print(\"Bedrooms:\", house['bedrooms'])\n",
        "      print(\"Bathrooms:\", house['bathrooms'])\n",
        "      print(\"Price:\", house['price'], \"euros\")\n",
        "      print(\"Square Meters:\", house['square_meters'], \"m^2\")\n",
        "      print(\"Location:\", house['location'])\n",
        "      print()\n",
        "  else:\n",
        "    print(\"\\nSorry, no suitable houses match your preferences. \\n\")\n",
        "\n",
        "suitable_houses = find_suitable_houses(data, user_preferences)\n",
        "print_suitable_houses(suitable_houses)"
      ]
    },
    {
      "cell_type": "markdown",
      "metadata": {
        "id": "6wP9PsI0tLKd"
      },
      "source": [
        "---\n",
        "\n",
        "\n",
        "\n",
        " <h1><a name=\"ex-six\"><center> ✏ Exercici 6 ✏ </a></h1>\n",
        "\n",
        "Amplieu el vostre xatbot perquè tinga en compte la següent informació sobre:\n",
        "\n",
        "1. **Tipus d'habitatge:** Pregunteu a l'usuari si vol una casa per a compra (tipus *\"sale\"* a les dades) o per llogar (tipus *\"rent\"*). Al final de l'execució, el sistema haurá de mostrar habitatges amb el tipus seleccionat.\n",
        "\n",
        "2. **Ingressos:** S'aconsella no dedicar més del 35% dels ingressos a l'habitatge. En cas d'escollir lloguer, preguntar a l'usuari els ingressos mensuals de la seua llar, i només mostrar aquells que estiguen per sota del 35%.\n",
        "\n",
        "3. **Planta:** Preguntar als usuaris a quina planta volen viure. Al final de l'execució, només s'oferiràn habitatges que estiguen en aquella planta o superior.\n",
        "\n",
        "4. **Terrassa:** Preguntar a l'usuari si vol un habitatge amb terrassa o no. En cas de voler terrassa, només s'oferiran habitatges amb terrassa. En cas contrari, oferir habitatges amb terrassa o sense.\n",
        "\n",
        "5. **Ascensor:** Preguntar a l'usuari si vol un habitatge amb ascensor o no. En cas de voler ascensor, només s'oferiran habitatges amb ascensor. En cas contrari, oferir habitatges amb ascensor o sense.\n",
        "\n",
        "6. **Us comercial:** Preguntar a l'usuari si vol fer servir l'habitatge com a negoci. En cas afirmatiu, només oferir habitatges amb la propietat *\"commercial use\"*\n",
        "\n",
        "---\n",
        "\n",
        "\n",
        "\n"
      ]
    },
    {
      "cell_type": "code",
      "execution_count": 18,
      "metadata": {},
      "outputs": [],
      "source": [
        "def find_suitable_houses(data, user_preferences):\n",
        "    suitable_houses = []\n",
        "\n",
        "    filters = {\n",
        "        'bedrooms': lambda answer, house: int(house) >= int(answer),\n",
        "        'bathrooms': lambda answer, house: int(house) >= int(answer),\n",
        "        'price': lambda answer, house: int(house[:-1]) <= int(answer[:-1]),\n",
        "        'square_meters': lambda answer, house: int(house) >= int(answer),\n",
        "        'location': lambda answer, house: house == answer,\n",
        "        'type': lambda answer, house: house == answer,\n",
        "        'income': lambda answer, house: int(house) <= 0.35 * int(answer) if 'rent' in house else True,  # Si és lloguer, filtrar per ingresos (income)\n",
        "        'floor': lambda answer, house: int(house) >= int(answer),\n",
        "        'terrace': lambda answer, house: house == 'Yes' if answer == 'Yes' else True,  \n",
        "        'elevator': lambda answer, house: house == 'Yes' if answer == 'Yes' else True,  \n",
        "        'commercial_use': lambda answer, house: house == 'Yes' if answer == 'Yes' else True  \n",
        "        }\n",
        "\n",
        "    for house in data['houses']:\n",
        "        is_suitable = True\n",
        "        for key, filter_func in filters.items():\n",
        "            if key in user_preferences:\n",
        "                if not filter_func(user_preferences[key], house[key]):\n",
        "                    is_suitable = False\n",
        "                    break\n",
        "        if is_suitable:\n",
        "            suitable_houses.append(house)\n",
        "    return suitable_houses"
      ]
    },
    {
      "cell_type": "code",
      "execution_count": 19,
      "metadata": {},
      "outputs": [
        {
          "name": "stdout",
          "output_type": "stream",
          "text": [
            "Welcome to the House Buying Assistant!\n",
            "How many bedrooms do you need?\n",
            "How many bathrooms do you need?\n",
            "What is your budget for the house?\n",
            "How many square meters do you need?\n",
            "Which city or neighborhood would you prefer?\n",
            "Options: Santa Coloma de Gramenet, Barcelona, Esplugues de Llobregat, L'Hospitalet de Llobregat\n",
            "Do you prefer a house for sale or for rent?\n",
            "Options: rent, sale\n",
            "What is your current income?\n",
            "What floor do you wish to live in?\n",
            "Do you wish to have a terrace?\n",
            "Options: Yes, No\n",
            "Do you wish to have an elevator?\n",
            "Options: Yes, No\n"
          ]
        },
        {
          "ename": "TypeError",
          "evalue": "'NoneType' object is not iterable",
          "output_type": "error",
          "traceback": [
            "\u001b[1;31m---------------------------------------------------------------------------\u001b[0m",
            "\u001b[1;31mTypeError\u001b[0m                                 Traceback (most recent call last)",
            "Cell \u001b[1;32mIn[19], line 9\u001b[0m\n\u001b[0;32m      7\u001b[0m \u001b[38;5;28;01mfor\u001b[39;00m question \u001b[38;5;129;01min\u001b[39;00m data[\u001b[38;5;124m'\u001b[39m\u001b[38;5;124mquestions\u001b[39m\u001b[38;5;124m'\u001b[39m]:\n\u001b[0;32m      8\u001b[0m   answer_key \u001b[38;5;241m=\u001b[39m question[\u001b[38;5;124m'\u001b[39m\u001b[38;5;124manswer_key\u001b[39m\u001b[38;5;124m'\u001b[39m] \n\u001b[1;32m----> 9\u001b[0m   possible_options \u001b[38;5;241m=\u001b[39m \u001b[38;5;28mlist\u001b[39m(available_options\u001b[38;5;241m.\u001b[39mget(answer_key))\n\u001b[0;32m     11\u001b[0m   \u001b[38;5;28;01mif\u001b[39;00m question[\u001b[38;5;124m'\u001b[39m\u001b[38;5;124mtype\u001b[39m\u001b[38;5;124m'\u001b[39m] \u001b[38;5;241m==\u001b[39m \u001b[38;5;124m'\u001b[39m\u001b[38;5;124mnumerical\u001b[39m\u001b[38;5;124m'\u001b[39m:\n\u001b[0;32m     12\u001b[0m     answer \u001b[38;5;241m=\u001b[39m process_numerical_question(question)\n",
            "\u001b[1;31mTypeError\u001b[0m: 'NoneType' object is not iterable"
          ]
        }
      ],
      "source": [
        "with open('house_data_ex6.json') as f:\n",
        "  data = json.load(f)\n",
        " \n",
        "print(data['start_message'])\n",
        "user_preferences, available_options = {}, {} \n",
        "initialize_available_options(data, available_options) \n",
        "for question in data['questions']:\n",
        "  answer_key = question['answer_key'] \n",
        "  possible_options = list(available_options.get(answer_key))\n",
        "\n",
        "  if question['type'] == 'numerical':\n",
        "    answer = process_numerical_question(question)\n",
        "  else:\n",
        "    answer = process_multichoice_question(question, possible_options)\n",
        "\n",
        "  user_preferences[answer_key] = answer\n",
        "\n",
        "def print_suitable_houses(suitable_houses):\n",
        "  if suitable_houses:\n",
        "    print(\"\\nBased on your preferences, the most suitable houses are:\")\n",
        "    for house in suitable_houses:\n",
        "      print(f\"House ID: {house['id']}\")\n",
        "      print(f\"Type: {house['type']}\")\n",
        "      print(\"Bedrooms:\", house['bedrooms'])\n",
        "      print(\"Bathrooms:\", house['bathrooms'])\n",
        "      print(\"Price:\", house['price'], \"euros\")\n",
        "      print(\"Square Meters:\", house['square_meters'], \"m^2\")\n",
        "      print(\"Location:\", house['location'])\n",
        "      print()\n",
        "  else:\n",
        "    print(\"\\nSorry, no suitable houses match your preferences. \\n\")\n",
        "\n",
        "suitable_houses = find_suitable_houses(data, user_preferences)\n",
        "print_suitable_houses(suitable_houses)"
      ]
    },
    {
      "cell_type": "markdown",
      "metadata": {},
      "source": [
        "!!!!!!gestionaraqui el type error"
      ]
    },
    {
      "cell_type": "markdown",
      "metadata": {
        "id": "AwPm38lDDGNB"
      },
      "source": [
        " <h1><a name=\"ex-seven\"><center> ✏ Exercici 7 ✏ </a></h1>\n",
        "\n",
        "Ara ja teniu un sistema funcional. Aplicant el mètode vist a classe (Exemples, Camins, Prototipat i Proves) milloreu aquest sistema per donar una millor experiència als usuaris."
      ]
    },
    {
      "cell_type": "code",
      "execution_count": null,
      "metadata": {},
      "outputs": [],
      "source": [
        "# MILLORES AL SISTEMA:\n",
        "# que sigui mes natural, que tingui més restriccions de les respostes al que pregunta, interficie grafica, que no sigui cap sensitive"
      ]
    },
    {
      "cell_type": "code",
      "execution_count": null,
      "metadata": {},
      "outputs": [],
      "source": [
        "!pip install ipywidgets "
      ]
    },
    {
      "cell_type": "markdown",
      "metadata": {
        "id": "4FaXlfF2rraz"
      },
      "source": [
        "<h1><a name=\"section-four\"> 4. Lliurable </a></h1>\n",
        "\n",
        "Heu d'entregar un document PDF de com a **màxim 10 pàgines** que incloga els resultats de tots els exercicis així com una explicació de cadascun dels resultats i de la modificació que heu fet. L'estructura del document és:\n",
        "\n",
        "1. Introducció.\n",
        "2. Resultats (amb raonament).\n",
        "3. Conversation flow del vostre sistema final.\n",
        "4. Conclusions.\n",
        "\n",
        "No cal que afegiu el vostre codi al document, podeu entregar el *notebook* juntament amb el document.\n"
      ]
    },
    {
      "cell_type": "markdown",
      "metadata": {
        "id": "fXFq7TmHoN-r"
      },
      "source": [
        "---"
      ]
    }
  ],
  "metadata": {
    "colab": {
      "provenance": []
    },
    "kernelspec": {
      "display_name": "Python 3",
      "name": "python3"
    },
    "language_info": {
      "codemirror_mode": {
        "name": "ipython",
        "version": 3
      },
      "file_extension": ".py",
      "mimetype": "text/x-python",
      "name": "python",
      "nbconvert_exporter": "python",
      "pygments_lexer": "ipython3",
      "version": "3.11.1"
    }
  },
  "nbformat": 4,
  "nbformat_minor": 0
}
